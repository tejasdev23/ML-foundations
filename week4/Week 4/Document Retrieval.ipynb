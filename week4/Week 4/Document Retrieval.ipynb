{
 "metadata": {
  "kernelspec": {
   "display_name": "Python 2",
   "language": "python",
   "name": "python2"
  },
  "language_info": {
   "codemirror_mode": {
    "name": "ipython",
    "version": 2
   },
   "file_extension": ".py",
   "mimetype": "text/x-python",
   "name": "python",
   "nbconvert_exporter": "python",
   "pygments_lexer": "ipython2",
   "version": "2.7.10"
  },
  "name": "",
  "signature": "sha256:326a9d5e30f2952c98009f50c46b42b1bc93a1ef4aa6d305c0764fb7e86cf2ae"
 },
 "nbformat": 3,
 "nbformat_minor": 0,
 "worksheets": [
  {
   "cells": [
    {
     "cell_type": "heading",
     "level": 1,
     "metadata": {},
     "source": [
      "Document retrieval from wikipedia data"
     ]
    },
    {
     "cell_type": "markdown",
     "metadata": {},
     "source": [
      "## Fire up GraphLab Create\n",
      "(See [Getting Started with SFrames](../Week%201/Getting%20Started%20with%20SFrames.ipynb) for setup instructions)"
     ]
    },
    {
     "cell_type": "code",
     "collapsed": false,
     "input": [
      "import graphlab"
     ],
     "language": "python",
     "metadata": {},
     "outputs": [],
     "prompt_number": null
    },
    {
     "cell_type": "code",
     "collapsed": true,
     "input": [
      "# Limit number of worker processes. This preserves system memory, which prevents hosted notebooks from crashing.\n",
      "graphlab.set_runtime_config('GRAPHLAB_DEFAULT_NUM_PYLAMBDA_WORKERS', 4)"
     ],
     "language": "python",
     "metadata": {},
     "outputs": [],
     "prompt_number": null
    },
    {
     "cell_type": "heading",
     "level": 1,
     "metadata": {},
     "source": [
      "Load some text data - from wikipedia, pages on people"
     ]
    },
    {
     "cell_type": "code",
     "collapsed": false,
     "input": [
      "people = graphlab.SFrame('people_wiki.gl/')"
     ],
     "language": "python",
     "metadata": {},
     "outputs": [],
     "prompt_number": null
    },
    {
     "cell_type": "markdown",
     "metadata": {},
     "source": [
      "Data contains:  link to wikipedia article, name of person, text of article."
     ]
    },
    {
     "cell_type": "code",
     "collapsed": false,
     "input": [
      "people.head()"
     ],
     "language": "python",
     "metadata": {},
     "outputs": [],
     "prompt_number": null
    },
    {
     "cell_type": "code",
     "collapsed": false,
     "input": [
      "len(people)"
     ],
     "language": "python",
     "metadata": {},
     "outputs": [],
     "prompt_number": null
    },
    {
     "cell_type": "markdown",
     "metadata": {},
     "source": [
      "# Explore the dataset and checkout the text it contains\n",
      "\n",
      "## Exploring the entry for president Obama"
     ]
    },
    {
     "cell_type": "code",
     "collapsed": true,
     "input": [
      "obama = people[people['name'] == 'Barack Obama']"
     ],
     "language": "python",
     "metadata": {},
     "outputs": [],
     "prompt_number": null
    },
    {
     "cell_type": "code",
     "collapsed": false,
     "input": [
      "obama"
     ],
     "language": "python",
     "metadata": {},
     "outputs": [],
     "prompt_number": null
    },
    {
     "cell_type": "code",
     "collapsed": false,
     "input": [
      "obama['text']"
     ],
     "language": "python",
     "metadata": {},
     "outputs": [],
     "prompt_number": null
    },
    {
     "cell_type": "heading",
     "level": 2,
     "metadata": {},
     "source": [
      "Exploring the entry for actor George Clooney"
     ]
    },
    {
     "cell_type": "code",
     "collapsed": false,
     "input": [
      "clooney = people[people['name'] == 'George Clooney']\n",
      "clooney['text']"
     ],
     "language": "python",
     "metadata": {},
     "outputs": [],
     "prompt_number": null
    },
    {
     "cell_type": "heading",
     "level": 1,
     "metadata": {},
     "source": [
      "Get the word counts for Obama article"
     ]
    },
    {
     "cell_type": "code",
     "collapsed": true,
     "input": [
      "obama['word_count'] = graphlab.text_analytics.count_words(obama['text'])"
     ],
     "language": "python",
     "metadata": {},
     "outputs": [],
     "prompt_number": null
    },
    {
     "cell_type": "code",
     "collapsed": false,
     "input": [
      "print obama['word_count']"
     ],
     "language": "python",
     "metadata": {},
     "outputs": [],
     "prompt_number": null
    },
    {
     "cell_type": "heading",
     "level": 2,
     "metadata": {},
     "source": [
      "Sort the word counts for the Obama article"
     ]
    },
    {
     "cell_type": "heading",
     "level": 3,
     "metadata": {},
     "source": [
      "Turning dictonary of word counts into a table"
     ]
    },
    {
     "cell_type": "code",
     "collapsed": true,
     "input": [
      "obama_word_count_table = obama[['word_count']].stack('word_count', new_column_name = ['word','count'])"
     ],
     "language": "python",
     "metadata": {},
     "outputs": [],
     "prompt_number": null
    },
    {
     "cell_type": "heading",
     "level": 3,
     "metadata": {},
     "source": [
      "Sorting the word counts to show most common words at the top"
     ]
    },
    {
     "cell_type": "code",
     "collapsed": false,
     "input": [
      "obama_word_count_table.head()"
     ],
     "language": "python",
     "metadata": {},
     "outputs": [],
     "prompt_number": null
    },
    {
     "cell_type": "code",
     "collapsed": false,
     "input": [
      "obama_word_count_table.sort('count',ascending=False)"
     ],
     "language": "python",
     "metadata": {},
     "outputs": [],
     "prompt_number": null
    },
    {
     "cell_type": "markdown",
     "metadata": {},
     "source": [
      "Most common words include uninformative words like \"the\", \"in\", \"and\",..."
     ]
    },
    {
     "cell_type": "markdown",
     "metadata": {},
     "source": [
      "# Compute TF-IDF for the corpus \n",
      "\n",
      "To give more weight to informative words, we weigh them by their TF-IDF scores."
     ]
    },
    {
     "cell_type": "code",
     "collapsed": false,
     "input": [
      "people['word_count'] = graphlab.text_analytics.count_words(people['text'])\n",
      "people.head()"
     ],
     "language": "python",
     "metadata": {},
     "outputs": [],
     "prompt_number": null
    },
    {
     "cell_type": "code",
     "collapsed": false,
     "input": [
      "tfidf = graphlab.text_analytics.tf_idf(people['word_count'])\n",
      "\n",
      "# Earlier versions of GraphLab Create returned an SFrame rather than a single SArray\n",
      "# This notebook was created using Graphlab Create version 1.7.1\n",
      "if graphlab.version <= '1.6.1':\n",
      "    tfidf = tfidf['docs']\n",
      "\n",
      "tfidf"
     ],
     "language": "python",
     "metadata": {},
     "outputs": [],
     "prompt_number": null
    },
    {
     "cell_type": "code",
     "collapsed": false,
     "input": [
      "people['tfidf'] = tfidf"
     ],
     "language": "python",
     "metadata": {},
     "outputs": [],
     "prompt_number": null
    },
    {
     "cell_type": "heading",
     "level": 2,
     "metadata": {},
     "source": [
      "Examine the TF-IDF for the Obama article"
     ]
    },
    {
     "cell_type": "code",
     "collapsed": true,
     "input": [
      "obama = people[people['name'] == 'Barack Obama']"
     ],
     "language": "python",
     "metadata": {},
     "outputs": [],
     "prompt_number": null
    },
    {
     "cell_type": "code",
     "collapsed": false,
     "input": [
      "obama[['tfidf']].stack('tfidf',new_column_name=['word','tfidf']).sort('tfidf',ascending=False)"
     ],
     "language": "python",
     "metadata": {},
     "outputs": [],
     "prompt_number": null
    },
    {
     "cell_type": "markdown",
     "metadata": {},
     "source": [
      "Words with highest TF-IDF are much more informative."
     ]
    },
    {
     "cell_type": "markdown",
     "metadata": {},
     "source": [
      "# Manually compute distances between a few people\n",
      "\n",
      "Let's manually compare the distances between the articles for a few famous people.  "
     ]
    },
    {
     "cell_type": "code",
     "collapsed": true,
     "input": [
      "clinton = people[people['name'] == 'Bill Clinton']"
     ],
     "language": "python",
     "metadata": {},
     "outputs": [],
     "prompt_number": null
    },
    {
     "cell_type": "code",
     "collapsed": true,
     "input": [
      "beckham = people[people['name'] == 'David Beckham']"
     ],
     "language": "python",
     "metadata": {},
     "outputs": [],
     "prompt_number": null
    },
    {
     "cell_type": "markdown",
     "metadata": {},
     "source": [
      "## Is Obama closer to Clinton than to Beckham?\n",
      "\n",
      "We will use cosine distance, which is given by\n",
      "\n",
      "(1-cosine_similarity) \n",
      "\n",
      "and find that the article about president Obama is closer to the one about former president Clinton than that of footballer David Beckham."
     ]
    },
    {
     "cell_type": "code",
     "collapsed": false,
     "input": [
      "graphlab.distances.cosine(obama['tfidf'][0],clinton['tfidf'][0])"
     ],
     "language": "python",
     "metadata": {},
     "outputs": [
      {
       "ename": "NameError",
       "evalue": "name 'graphlab' is not defined",
       "output_type": "pyerr",
       "traceback": [
        "\u001b[0;31m---------------------------------------------------------------------------\u001b[0m\n\u001b[0;31mNameError\u001b[0m                                 Traceback (most recent call last)",
        "\u001b[0;32m<ipython-input-1-acb0eed083b0>\u001b[0m in \u001b[0;36m<module>\u001b[0;34m()\u001b[0m\n\u001b[0;32m----> 1\u001b[0;31m \u001b[0mgraphlab\u001b[0m\u001b[0;34m.\u001b[0m\u001b[0mdistances\u001b[0m\u001b[0;34m.\u001b[0m\u001b[0mcosine\u001b[0m\u001b[0;34m(\u001b[0m\u001b[0mobama\u001b[0m\u001b[0;34m[\u001b[0m\u001b[0;34m'tfidf'\u001b[0m\u001b[0;34m]\u001b[0m\u001b[0;34m[\u001b[0m\u001b[0;36m0\u001b[0m\u001b[0;34m]\u001b[0m\u001b[0;34m,\u001b[0m\u001b[0mclinton\u001b[0m\u001b[0;34m[\u001b[0m\u001b[0;34m'tfidf'\u001b[0m\u001b[0;34m]\u001b[0m\u001b[0;34m[\u001b[0m\u001b[0;36m0\u001b[0m\u001b[0;34m]\u001b[0m\u001b[0;34m)\u001b[0m\u001b[0;34m\u001b[0m\u001b[0m\n\u001b[0m",
        "\u001b[0;31mNameError\u001b[0m: name 'graphlab' is not defined"
       ]
      }
     ],
     "prompt_number": 1
    },
    {
     "cell_type": "code",
     "collapsed": false,
     "input": [
      "graphlab.distances.cosine(obama['tfidf'][0],beckham['tfidf'][0])"
     ],
     "language": "python",
     "metadata": {},
     "outputs": [],
     "prompt_number": null
    },
    {
     "cell_type": "markdown",
     "metadata": {},
     "source": [
      "# Build a nearest neighbor model for document retrieval\n",
      "\n",
      "We now create a nearest-neighbors model and apply it to document retrieval.  "
     ]
    },
    {
     "cell_type": "code",
     "collapsed": false,
     "input": [
      "knn_model = graphlab.nearest_neighbors.create(people,features=['tfidf'],label='name')"
     ],
     "language": "python",
     "metadata": {},
     "outputs": [],
     "prompt_number": null
    },
    {
     "cell_type": "heading",
     "level": 1,
     "metadata": {},
     "source": [
      "Applying the nearest-neighbors model for retrieval"
     ]
    },
    {
     "cell_type": "heading",
     "level": 2,
     "metadata": {},
     "source": [
      "Who is closest to Obama?"
     ]
    },
    {
     "cell_type": "code",
     "collapsed": false,
     "input": [
      "knn_model.query(obama)"
     ],
     "language": "python",
     "metadata": {},
     "outputs": [],
     "prompt_number": null
    },
    {
     "cell_type": "markdown",
     "metadata": {},
     "source": [
      "As we can see, president Obama's article is closest to the one about his vice-president Biden, and those of other politicians.  "
     ]
    },
    {
     "cell_type": "heading",
     "level": 2,
     "metadata": {},
     "source": [
      "Other examples of document retrieval"
     ]
    },
    {
     "cell_type": "code",
     "collapsed": true,
     "input": [
      "swift = people[people['name'] == 'Taylor Swift']"
     ],
     "language": "python",
     "metadata": {},
     "outputs": [],
     "prompt_number": null
    },
    {
     "cell_type": "code",
     "collapsed": false,
     "input": [
      "knn_model.query(swift)"
     ],
     "language": "python",
     "metadata": {},
     "outputs": [],
     "prompt_number": null
    },
    {
     "cell_type": "code",
     "collapsed": true,
     "input": [
      "jolie = people[people['name'] == 'Angelina Jolie']"
     ],
     "language": "python",
     "metadata": {},
     "outputs": [],
     "prompt_number": null
    },
    {
     "cell_type": "code",
     "collapsed": false,
     "input": [
      "knn_model.query(jolie)"
     ],
     "language": "python",
     "metadata": {},
     "outputs": [],
     "prompt_number": null
    },
    {
     "cell_type": "code",
     "collapsed": true,
     "input": [
      "arnold = people[people['name'] == 'Arnold Schwarzenegger']"
     ],
     "language": "python",
     "metadata": {},
     "outputs": [],
     "prompt_number": null
    },
    {
     "cell_type": "code",
     "collapsed": false,
     "input": [
      "knn_model.query(arnold)"
     ],
     "language": "python",
     "metadata": {},
     "outputs": [],
     "prompt_number": null
    }
   ],
   "metadata": {}
  }
 ]
}